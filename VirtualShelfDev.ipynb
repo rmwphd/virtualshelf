{
 "cells": [
  {
   "cell_type": "code",
   "execution_count": 80,
   "metadata": {},
   "outputs": [],
   "source": [
    "# OKAY! Let's figure out the API.\n",
    "\n",
    "import urllib.request as ur\n",
    "import rauth\n",
    "import re\n",
    "from IPython.display import Image\n",
    "from IPython.core.display import HTML \n",
    "\n",
    "with open(\"mykeys.keys\",'r') as keysfile:\n",
    "    for lin in keysfile:\n",
    "        line = keysfile.readline()\n",
    "        k = re.match(r\"key\\: (.*)\", line, re.MULTILINE)  # Match\n",
    "        if k:\n",
    "            key = k.group(1)\n",
    "        k2 = re.match(r\"secret\\: (.*)\", line, re.MULTILINE)  # Match\n",
    "        if k2!=None:\n",
    "            secret = k2.group(1)"
   ]
  },
  {
   "cell_type": "code",
   "execution_count": 66,
   "metadata": {},
   "outputs": [
    {
     "data": {
      "text/html": [
       "<img src=\"https://i.gr-assets.com/images/S/compressed.photo.goodreads.com/books/1408303130i/375802._SY160_.jpg\"/>"
      ],
      "text/plain": [
       "<IPython.core.display.Image object>"
      ]
     },
     "metadata": {},
     "output_type": "display_data"
    }
   ],
   "source": [
    "site = \"https://www.goodreads.com/search.xml?key=\"+ key + \"&q=Ender%27s+Game\"\n",
    "with ur.urlopen(site) as response:\n",
    "    resp = response.read()\n",
    "    html = resp.decode()\n",
    "\n",
    "#print(html)\n",
    "#print(val)\n",
    "image = re.search(r\"\\<image_url\\>(.*)\\</\",html, re.MULTILINE)\n",
    "#print(image.group(1))\n",
    "display(Image(url= image.group(1)))"
   ]
  },
  {
   "cell_type": "code",
   "execution_count": 82,
   "metadata": {},
   "outputs": [],
   "source": [
    "goodreads = rauth.OAuth1Service(\n",
    "    name='goodreads',\n",
    "    consumer_key=key,\n",
    "    consumer_secret=secret,\n",
    "    request_token_url='https://www.goodreads.com/oauth/request_token',\n",
    "    authorize_url='https://www.goodreads.com/oauth/authorize',\n",
    "    access_token_url='https://www.goodreads.com/oauth/access_token',\n",
    "    base_url='https://www.goodreads.com/'\n",
    ")\n",
    "request_token, request_token_secret = goodreads.get_request_token(header_auth=True)\n",
    "\n",
    "#book = \"https://www.goodreads.com/owned_books/user?format=xml&id=\" + uid\n",
    "#with ur.urlopen(book) as response:\n",
    "#    resp = response.read()\n",
    "#    html = resp.decode()"
   ]
  },
  {
   "cell_type": "code",
   "execution_count": 83,
   "metadata": {},
   "outputs": [
    {
     "name": "stdout",
     "output_type": "stream",
     "text": [
      "A78f2H3mZEui5nCTebl3w\n"
     ]
    }
   ],
   "source": [
    "print(request_token)"
   ]
  },
  {
   "cell_type": "code",
   "execution_count": null,
   "metadata": {},
   "outputs": [],
   "source": []
  }
 ],
 "metadata": {
  "kernelspec": {
   "display_name": "Python 3",
   "language": "python",
   "name": "python3"
  },
  "language_info": {
   "codemirror_mode": {
    "name": "ipython",
    "version": 3
   },
   "file_extension": ".py",
   "mimetype": "text/x-python",
   "name": "python",
   "nbconvert_exporter": "python",
   "pygments_lexer": "ipython3",
   "version": "3.7.3"
  }
 },
 "nbformat": 4,
 "nbformat_minor": 2
}
